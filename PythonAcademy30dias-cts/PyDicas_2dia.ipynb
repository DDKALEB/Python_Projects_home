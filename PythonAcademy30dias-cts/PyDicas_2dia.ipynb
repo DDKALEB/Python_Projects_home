{
  "nbformat": 4,
  "nbformat_minor": 0,
  "metadata": {
    "colab": {
      "provenance": []
    },
    "kernelspec": {
      "name": "python3",
      "display_name": "Python 3"
    },
    "language_info": {
      "name": "python"
    }
  },
  "cells": [
    {
      "cell_type": "markdown",
      "source": [
        "# PyDica 2 | Usando Listas Eficientemente"
      ],
      "metadata": {
        "id": "ONChCzs5-RV6"
      }
    },
    {
      "cell_type": "code",
      "source": [
        "# 1. List Comprehension:\n",
        "# Essa é uma das maravilhas do Python. Ao invés de criar uma lista com um loop, por que não fazer tudo em uma linha só?\n",
        "quadrados = [x**2 for x in range(10)]\n",
        "print(quadrados)\n",
        "# Vai mostrar os quadrados de 0 a 9!"
      ],
      "metadata": {
        "colab": {
          "base_uri": "https://localhost:8080/"
        },
        "id": "3SY1-rt2-Qtr",
        "outputId": "3e81c351-286b-4d78-af54-f03eb6d1ad34"
      },
      "execution_count": null,
      "outputs": [
        {
          "output_type": "stream",
          "name": "stdout",
          "text": [
            "[0, 1, 4, 9, 16, 25, 36, 49, 64, 81]\n"
          ]
        }
      ]
    },
    {
      "cell_type": "code",
      "source": [
        "#2. Acessando o último elemento:\n",
        "#@ Esqueça aquela história de encontrar o tamanho da lista para pegar os últimos elementos. Python facilita isso pra gente:\n",
        "\n",
        "numeros = [10, 20, 30, 40, 50]\n",
        "print(numeros[-1])\n",
        "# Mostra 50, o último elemento!"
      ],
      "metadata": {
        "colab": {
          "base_uri": "https://localhost:8080/"
        },
        "id": "roBv6wAU-Qp7",
        "outputId": "cb19a9b8-d022-46ad-f074-f44dfbbb310b"
      },
      "execution_count": null,
      "outputs": [
        {
          "output_type": "stream",
          "name": "stdout",
          "text": [
            "50\n"
          ]
        }
      ]
    },
    {
      "cell_type": "code",
      "source": [
        "# 3. Adicionando elementos:\n",
        "# Eu sei, eu sei... Tem o append, mas e o extend? Ele é perfeito quando você quer adicionar outra lista:\n",
        "\n",
        "lista1 = [1, 2, 3]\n",
        "lista2 = [4, 5, 6]\n",
        "lista1.extend(lista2)\n",
        "print(lista1)\n",
        "# Resultado: [1, 2, 3, 4, 5, 6]"
      ],
      "metadata": {
        "colab": {
          "base_uri": "https://localhost:8080/"
        },
        "id": "nqCRD42I-QnF",
        "outputId": "1c7659f7-68a2-49e0-eadb-4a4d4f1e027d"
      },
      "execution_count": null,
      "outputs": [
        {
          "output_type": "stream",
          "name": "stdout",
          "text": [
            "[1, 2, 3, 4, 5, 6]\n"
          ]
        }
      ]
    },
    {
      "cell_type": "code",
      "execution_count": null,
      "metadata": {
        "id": "echtqZUc-HDe"
      },
      "outputs": [],
      "source": []
    },
    {
      "cell_type": "markdown",
      "source": [],
      "metadata": {
        "id": "-dfBqxU5-NZZ"
      }
    }
  ]
}