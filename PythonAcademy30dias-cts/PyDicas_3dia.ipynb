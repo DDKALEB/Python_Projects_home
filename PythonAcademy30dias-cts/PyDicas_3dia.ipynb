{
  "nbformat": 4,
  "nbformat_minor": 0,
  "metadata": {
    "colab": {
      "provenance": []
    },
    "kernelspec": {
      "name": "python3",
      "display_name": "Python 3"
    },
    "language_info": {
      "name": "python"
    }
  },
  "cells": [
    {
      "cell_type": "markdown",
      "source": [
        "PyDica #3 | Métodos Essenciais dos Dicionários\n"
      ],
      "metadata": {
        "id": "asnCK69XqYZ7"
      }
    },
    {
      "cell_type": "code",
      "source": [
        "#Hoje, vamos dar um pulo no mundo mágico dos dicionários.\n",
        "#Se você nunca parou para explorar os métodos que essa estrutura oferece, relaxa,\n",
        "#que vou te mostrar alguns que são simplesmente sensacionais.\n",
        "\n"
      ],
      "metadata": {
        "id": "CAc48vnHqX9m"
      },
      "execution_count": null,
      "outputs": []
    },
    {
      "cell_type": "code",
      "execution_count": 1,
      "metadata": {
        "colab": {
          "base_uri": "https://localhost:8080/"
        },
        "id": "4w6ZDS8qqLdm",
        "outputId": "97256351-cfd6-4af2-c2e6-d2ca7de0d244"
      },
      "outputs": [
        {
          "output_type": "stream",
          "name": "stdout",
          "text": [
            "Lucas\n",
            "Vazio\n"
          ]
        }
      ],
      "source": [
        "#1. Método get():\n",
        "#Chega de KeyError no seu código! Com o método get, você pode pegar um valor sem risco de o programa quebrar:\n",
        "\n",
        "dicionario = {\"nome\": \"Lucas\", \"idade\": 25}\n",
        "print(dicionario.get(\"nome\", \"Vazio\"))\n",
        "# Vai mostrar 'Lucas'\n",
        "\n",
        "print(dicionario.get(\"altura\", \"Vazio\"))\n",
        "# Vai mostrar 'Vazio'"
      ]
    },
    {
      "cell_type": "code",
      "source": [
        "#2. Métodos keys(), values() e items():\n",
        "# Métodos muito úteis para quando você quer listar as chaves de um Dicionário,\n",
        "# os valores ou ambos (mas tem um \"pulo do gato\"):\n",
        "\n",
        "print(dicionario.keys())\n",
        "print(dicionario.values())\n",
        "print(dicionario.items())"
      ],
      "metadata": {
        "colab": {
          "base_uri": "https://localhost:8080/"
        },
        "id": "OrbdIxrWq4bX",
        "outputId": "bd7f0b9e-5712-4a51-faac-048aa3c64e37"
      },
      "execution_count": 2,
      "outputs": [
        {
          "output_type": "stream",
          "name": "stdout",
          "text": [
            "dict_keys(['nome', 'idade'])\n",
            "dict_values(['Lucas', 25])\n",
            "dict_items([('nome', 'Lucas'), ('idade', 25)])\n"
          ]
        }
      ]
    },
    {
      "cell_type": "code",
      "source": [
        "# Hein? Que papo é esse de dict_keys, dict_values e dict_items? 🤔\n",
        "\n",
        "# Isso acontece pois o Python encapsula os valores em classes de retorno.\n",
        "\n",
        "# Para se ter acesso aos reais valores, é bem simples! Basta transformá-los em listas, da seguinte forma:\n",
        "\n",
        "print(list(dicionario.keys()))\n",
        "# ['nome', 'idade']\n",
        "print(list(dicionario.values()))\n",
        "# ['Lucas', 25]\n",
        "print(list(dicionario.items()))\n",
        "# [('nome', 'Lucas'), ('idade', 25)]\n",
        "# Agora sim! Tudo certo por aqui."
      ],
      "metadata": {
        "colab": {
          "base_uri": "https://localhost:8080/"
        },
        "id": "W8fNNq_xq4Yl",
        "outputId": "53af5fd6-5bd0-4930-cb40-49ce6f473947"
      },
      "execution_count": 3,
      "outputs": [
        {
          "output_type": "stream",
          "name": "stdout",
          "text": [
            "['nome', 'idade']\n",
            "['Lucas', 25]\n",
            "[('nome', 'Lucas'), ('idade', 25)]\n"
          ]
        }
      ]
    },
    {
      "cell_type": "code",
      "source": [
        "#3. Método setdefault():\n",
        "#Quer garantir que uma chave exista? Use o setdefault! \"set\" significa \"configurar\", em Português, e \"default\" significa \"padrão\".\n",
        "#Ou seja: configurar um valor padrão! Dessa forma, você garante que seu dicionário tem algum valor na chave escolhida.\n",
        "# Por exemplo, se quiser que a chave \"altura\" sempre tenha um valor - mesmo que seja 0 - faça assim:\n",
        "\n",
        "dicionario.setdefault(\"altura\", 0)\n",
        "print(dicionario)\n",
        "\n",
        "# {'nome': 'Lucas', 'idade': 25, 'altura': 0}"
      ],
      "metadata": {
        "colab": {
          "base_uri": "https://localhost:8080/"
        },
        "id": "ulI2ZBC8q4Uj",
        "outputId": "6b7ccfcf-3013-4659-c7aa-ef4f4477787d"
      },
      "execution_count": 4,
      "outputs": [
        {
          "output_type": "stream",
          "name": "stdout",
          "text": [
            "{'nome': 'Lucas', 'idade': 25, 'altura': 0}\n"
          ]
        }
      ]
    },
    {
      "cell_type": "code",
      "source": [
        "#3. Compreensão de Dicionários (\"Dict Comprehensions\"):\n",
        "# Digamos que você queira criar um dicionário onde as chaves são números e os valores são esses números ao quadrado. Olha essa maravilha:\n",
        "\n",
        "quadrados = {x: x**2 for x in (1, 2, 3, 4, 5)}\n",
        "print(quadrados)\n",
        "# Resultado: {1: 1, 2: 4, 3: 9, 4: 16, 5: 25}"
      ],
      "metadata": {
        "colab": {
          "base_uri": "https://localhost:8080/"
        },
        "id": "E9O0O4vxq4Hq",
        "outputId": "ce4fba80-adf1-42cd-a30e-da2475510c05"
      },
      "execution_count": 5,
      "outputs": [
        {
          "output_type": "stream",
          "name": "stdout",
          "text": [
            "{1: 1, 2: 4, 3: 9, 4: 16, 5: 25}\n"
          ]
        }
      ]
    },
    {
      "cell_type": "markdown",
      "source": [
        "# Criando dicionários"
      ],
      "metadata": {
        "id": "V1YdBwwltVuY"
      }
    },
    {
      "cell_type": "code",
      "source": [
        "#Agora vamos ver 6 maneiras de criar um mesmo dicionário!\n",
        "\n",
        "# O modo mais simples de criar um dicionário:\n",
        "dicio_2 = {'primeiro': 1, 'segundo':  2, 'terceiro': 3}\n",
        "dicio = {'chave': 'valor'}\n",
        "\n",
        "print(type(dicio))"
      ],
      "metadata": {
        "colab": {
          "base_uri": "https://localhost:8080/"
        },
        "id": "x2C-uKBFtU7z",
        "outputId": "119ae534-6292-4e6e-cf44-659954812a4c"
      },
      "execution_count": 6,
      "outputs": [
        {
          "output_type": "stream",
          "name": "stdout",
          "text": [
            "<class 'dict'>\n"
          ]
        }
      ]
    },
    {
      "cell_type": "code",
      "source": [
        "#Também podemos utilizar a função dict do próprio Python (built-in function), passando as chaves e valores como parâmetros:\n",
        "\n",
        "\n",
        "dicio = dict(primeiro=1, segundo=2, terceiro=3)\n",
        "# Utilizando a função zip para concatenar a chave:valor em um elemento do objeto dict:\n",
        "\n",
        "\n",
        "dicio_3 = dict(zip(['primeiro', 'segundo', 'terceiro'], [1, 2, 3]))\n",
        "# Utilizando uma lista de tuplas com itens simbolizando chave e valor em um objeto dict:\n",
        "\n",
        "\n",
        "dicio_4 = dict([('primeiro', 1), ('segundo', 2), ('terceiro', 3)])\n"
      ],
      "metadata": {
        "id": "FLV1MJ5RtU4Q"
      },
      "execution_count": null,
      "outputs": []
    },
    {
      "cell_type": "code",
      "source": [
        "# Aprofundando\n",
        "# Com Dict Comprehensions!"
      ],
      "metadata": {
        "id": "9J-tCdj2tU0T"
      },
      "execution_count": null,
      "outputs": []
    },
    {
      "cell_type": "code",
      "source": [
        "# Veja como:\n",
        "\n",
        "dicio_6 = {name: idx + 1 for idx, name in enumerate(('primeiro', 'segundo', 'terceiro'))}\n",
        "#Por mais estranho que pareça, podemos tentar transformar uma variável do tipo dicionário em dicionário.\n",
        "\n",
        "1\n",
        "dicio_5 = dict({'primeiro': 1, 'segundo':  2, 'terceiro': 3})\n",
        "#Todos esses exemplos tem o mesmo resultado, que esta sendo mostrado abaixo:\n",
        "\n",
        "{'primeiro': 1, 'segundo': 2, 'terceiro': 3}\n"
      ],
      "metadata": {
        "colab": {
          "base_uri": "https://localhost:8080/"
        },
        "id": "5f91V09gtUxG",
        "outputId": "8da710e5-c40a-441d-b52b-53a3ce758fe5"
      },
      "execution_count": 7,
      "outputs": [
        {
          "output_type": "execute_result",
          "data": {
            "text/plain": [
              "{'primeiro': 1, 'segundo': 2, 'terceiro': 3}"
            ]
          },
          "metadata": {},
          "execution_count": 7
        }
      ]
    },
    {
      "cell_type": "markdown",
      "source": [
        "#Acessando itens"
      ],
      "metadata": {
        "id": "PIykzsXPvg2Z"
      }
    },
    {
      "cell_type": "code",
      "source": [
        "# Para acessar o valor de um dicionário podemos utilizar sua chave. Exemplo:\n",
        "\n",
        "pessoa = {'nome': 'Pythonico', 'altura': 1.65, 'idade': 21}\n",
        "\n",
        "print(pessoa['nome'])\n",
        "# Saída com o valor da chave especificada:\n"
      ],
      "metadata": {
        "colab": {
          "base_uri": "https://localhost:8080/"
        },
        "id": "Bs-nUKE9tUuO",
        "outputId": "bf498595-128c-420e-cbd9-98460bb70775"
      },
      "execution_count": 9,
      "outputs": [
        {
          "output_type": "stream",
          "name": "stdout",
          "text": [
            "Pythonico\n"
          ]
        }
      ]
    },
    {
      "cell_type": "code",
      "source": [
        "#Dicionários também contam com um método chamado get() que fornecerá o mesmo resultado:\n",
        "\n",
        "print(pessoa.get('nome'))\n"
      ],
      "metadata": {
        "colab": {
          "base_uri": "https://localhost:8080/"
        },
        "id": "N68HfgGitUrF",
        "outputId": "5da4b1ca-8a50-4be2-d0b2-cab9aac6506e"
      },
      "execution_count": 10,
      "outputs": [
        {
          "output_type": "stream",
          "name": "stdout",
          "text": [
            "Pythonico\n"
          ]
        }
      ]
    },
    {
      "cell_type": "code",
      "source": [
        "#Uma coisa interessante sobre esse método é que você pode definir um valor default, para o caso da chave não ser encontrada, exemplo:\n",
        "\n",
        "print(pessoa.get('peso', 'Chave não encontrada'))\n",
        "# Como não existe nenhuma chave chamada 'peso', ele retorna:"
      ],
      "metadata": {
        "colab": {
          "base_uri": "https://localhost:8080/"
        },
        "id": "0awASDFCtUeI",
        "outputId": "2b05586d-8824-443b-a026-59ca9409dc61"
      },
      "execution_count": 11,
      "outputs": [
        {
          "output_type": "stream",
          "name": "stdout",
          "text": [
            "Chave não encontrada\n"
          ]
        }
      ]
    }
  ]
}