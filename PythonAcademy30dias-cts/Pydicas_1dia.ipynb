{
  "nbformat": 4,
  "nbformat_minor": 0,
  "metadata": {
    "colab": {
      "provenance": []
    },
    "kernelspec": {
      "name": "python3",
      "display_name": "Python 3"
    },
    "language_info": {
      "name": "python"
    }
  },
  "cells": [
    {
      "cell_type": "markdown",
      "source": [
        "# Seja muito bem vindo(a) à primeira PyDica do Desafio \"30 dias de Python\" da Python Academy!\n",
        "\n",
        "###   Espero que esteja animado(a) para iniciarmos nossos estudos! Sabe, uma    das coisas que eu mais adoro em Python é a forma como ele lida com strings. E nesse primeiro dia, quero compartilhar algumas dicas rápidas sobre formatação de strings que podem ser super úteis no seu dia a dia."
      ],
      "metadata": {
        "id": "VT729n82t_9M"
      }
    },
    {
      "cell_type": "code",
      "source": [
        "# 1. Formatação com f-strings:\n",
        "# Surgiram no Python 3.6 e são minha forma preferida de formatar strings. São rápidas, legíveis e diretas. Olha só que prático:\n",
        "\n",
        "nome = \"João\"\n",
        "idade = 30\n",
        "print(f\"Olá, {nome}! Você tem {idade} anos.\")\n",
        "\n",
        "# Com elas, você pode \"interpolar\" (termo técnico para misturar) string e código! Incrível! 😎"
      ],
      "metadata": {
        "colab": {
          "base_uri": "https://localhost:8080/"
        },
        "id": "vSzw3cJLt-vs",
        "outputId": "0935d323-0fd3-4445-fc81-1c4f4c2f8b8b"
      },
      "execution_count": 2,
      "outputs": [
        {
          "output_type": "stream",
          "name": "stdout",
          "text": [
            "Olá, João! Você tem 30 anos.\n"
          ]
        }
      ]
    },
    {
      "cell_type": "markdown",
      "source": [],
      "metadata": {
        "id": "ivG3UWNRt5Eb"
      }
    },
    {
      "cell_type": "code",
      "source": [
        "# 2. A clássica .format():\n",
        "# Antes das f-strings dominarem, essa era a \"queridinha\" da galera. Ainda é bem utilizada:\n",
        "\n",
        "nome = \"Pythonista\"\n",
        "print(\"Oi, {}!\".format(nome))"
      ],
      "metadata": {
        "colab": {
          "base_uri": "https://localhost:8080/"
        },
        "id": "pkoA0K8etqHS",
        "outputId": "f807aff5-38bc-421f-f22f-e1e75cb5e2a2"
      },
      "execution_count": 3,
      "outputs": [
        {
          "output_type": "stream",
          "name": "stdout",
          "text": [
            "Oi, Pythonista!\n"
          ]
        }
      ]
    },
    {
      "cell_type": "code",
      "source": [
        "# 3. A boa e velha formatação com %:\n",
        "# Meio old school, mas a gente respeita. Alguns códigos antigos ainda usam essa formatação:\n",
        "\n",
        "nome = \"Pythonista\"\n",
        "print(\"Salve salve, %s!\" % (nome))\n",
        "\n",
        "# P.S.: Se possível, evite utilizar. Está caindo em desuso 😉\n"
      ],
      "metadata": {
        "colab": {
          "base_uri": "https://localhost:8080/"
        },
        "id": "jjK-KMPbtqEH",
        "outputId": "22024780-77c3-4759-809b-cf992c1f841f"
      },
      "execution_count": 5,
      "outputs": [
        {
          "output_type": "stream",
          "name": "stdout",
          "text": [
            "Salve salve, Pythonista!\n"
          ]
        }
      ]
    },
    {
      "cell_type": "code",
      "source": [
        "texto1 = 'Olá mundo'\n",
        "texto2 = \"Olá mundo\"\n",
        "\n",
        "print(texto1)\n",
        "print(type(texto2))\n"
      ],
      "metadata": {
        "colab": {
          "base_uri": "https://localhost:8080/"
        },
        "id": "crOJZmlEtqBS",
        "outputId": "e593d99f-279a-43c4-9f74-75fd1c42b32e"
      },
      "execution_count": 6,
      "outputs": [
        {
          "output_type": "stream",
          "name": "stdout",
          "text": [
            "Olá mundo\n",
            "<class 'str'>\n"
          ]
        }
      ]
    },
    {
      "cell_type": "code",
      "source": [
        "multilinha_dupla = \"\"\"\n",
        "Is simply dummy text of the printing and typesetting industry\n",
        "Lorem Ipsum has been the industry's standard dummy text ever since the 1500s,\n",
        "when an unknown printer took a galley of type and scrambled it to make a type.\"\"\"\n",
        "\n",
        "multilinha_simples = '''\n",
        "Is simply dummy text of the printing and typesetting industry\n",
        "Lorem Ipsum has been the industry's standard dummy text ever since the 1500s,\n",
        "when an unknown printer took a galley of type and scrambled it to make a type.'''\n"
      ],
      "metadata": {
        "id": "tgQ8RI5ctp-K"
      },
      "execution_count": 7,
      "outputs": []
    },
    {
      "cell_type": "code",
      "source": [
        "print(multilinha_dupla)"
      ],
      "metadata": {
        "colab": {
          "base_uri": "https://localhost:8080/"
        },
        "id": "aN3j0BAftp7c",
        "outputId": "4d6ebc74-541a-4391-e516-92286592cff7"
      },
      "execution_count": 8,
      "outputs": [
        {
          "output_type": "stream",
          "name": "stdout",
          "text": [
            "\n",
            "Is simply dummy text of the printing and typesetting industry\n",
            "Lorem Ipsum has been the industry's standard dummy text ever since the 1500s,\n",
            "when an unknown printer took a galley of type and scrambled it to make a type.\n"
          ]
        }
      ]
    },
    {
      "cell_type": "code",
      "source": [
        "print(multilinha_simples)"
      ],
      "metadata": {
        "colab": {
          "base_uri": "https://localhost:8080/"
        },
        "id": "oMjBEh9JtpsX",
        "outputId": "ed14339a-6299-4b3e-9af9-9c5932328e7b"
      },
      "execution_count": 9,
      "outputs": [
        {
          "output_type": "stream",
          "name": "stdout",
          "text": [
            "\n",
            "Is simply dummy text of the printing and typesetting industry \n",
            "Lorem Ipsum has been the industry's standard dummy text ever since the 1500s,\n",
            "when an unknown printer took a galley of type and scrambled it to make a type.\n"
          ]
        }
      ]
    },
    {
      "cell_type": "code",
      "execution_count": 11,
      "metadata": {
        "colab": {
          "base_uri": "https://localhost:8080/"
        },
        "id": "EvH95n-WtTUf",
        "outputId": "7c95459e-6ac9-4aa5-9c3b-2b5594afce70"
      },
      "outputs": [
        {
          "output_type": "stream",
          "name": "stdout",
          "text": [
            "E\n",
            "i\n",
            "c\n"
          ]
        }
      ],
      "source": [
        "# Índices e cortes (slicing)\n",
        "nome = \"Erick\"\n",
        "\n",
        "print(nome[0])\n",
        "print(nome[2])\n",
        "print(nome[3])\n"
      ]
    },
    {
      "cell_type": "code",
      "source": [
        "# Mas não é somente com números positivos que acessamos os caracteres de uma strings, também temos a indexação negativa:\n",
        "\n",
        "nome = \"Erick\"\n",
        "\n",
        "print(nome[-1])\n",
        "print(nome[-2])\n",
        "print(nome[-3])\n"
      ],
      "metadata": {
        "colab": {
          "base_uri": "https://localhost:8080/"
        },
        "id": "9qyhCIr-wpZS",
        "outputId": "a4e3c98b-43ed-4bf4-ffea-4ebc3a8991bd"
      },
      "execution_count": 12,
      "outputs": [
        {
          "output_type": "stream",
          "name": "stdout",
          "text": [
            "k\n",
            "c\n",
            "i\n"
          ]
        }
      ]
    },
    {
      "cell_type": "code",
      "source": [
        "# Use dois pontos para obter os caracteres de uma posição inicial até uma posição final:\n",
        "nome = \"Pythonista\"\n",
        "\n",
        "# Desde a posição de índice 3 (que é o \"h\")\n",
        "# até a última posição da string\n",
        "print(nome[3:])\n",
        "\n",
        "# Desde a posição de índice -3 (que é o \"s\")\n",
        "# até a última posição da string\n",
        "print(nome[-3:])"
      ],
      "metadata": {
        "colab": {
          "base_uri": "https://localhost:8080/"
        },
        "id": "4hmKocqVwpWp",
        "outputId": "c106fac5-792a-4436-9148-633784545c21"
      },
      "execution_count": 13,
      "outputs": [
        {
          "output_type": "stream",
          "name": "stdout",
          "text": [
            "honista\n",
            "sta\n"
          ]
        }
      ]
    },
    {
      "cell_type": "code",
      "source": [
        "# Também podemos retornar um intervalo de caracteres, especificando um índice inicial e final, separados por dois pontos.\n",
        "texto = \"Python é uma linguagem de programação de alto nível\"\n",
        "\n",
        "print(texto[13:23])"
      ],
      "metadata": {
        "colab": {
          "base_uri": "https://localhost:8080/"
        },
        "id": "oNoPnBoswpTz",
        "outputId": "f7b6e3b7-9cc7-4db5-8077-cfbd51699493"
      },
      "execution_count": 14,
      "outputs": [
        {
          "output_type": "stream",
          "name": "stdout",
          "text": [
            "linguagem \n"
          ]
        }
      ]
    },
    {
      "cell_type": "code",
      "source": [
        "# Juntar string pode ser algo essencial e saber como realizar essa operação é muito importante!\n",
        "# Em python podemos concatenar strings, ou seja, juntar duas ou mais strings em uma única, utilizando o operador +, desta forma:\n",
        "var1 = 'variável'\n",
        "var2 = 'string'\n",
        "\n",
        "print(var1 + \" \" + var2)\n",
        "print(var1 + var2)\n"
      ],
      "metadata": {
        "colab": {
          "base_uri": "https://localhost:8080/"
        },
        "id": "vhiZZ4KMwpQ7",
        "outputId": "093c6bf9-821b-422b-9b68-88b38d73c5d7"
      },
      "execution_count": 18,
      "outputs": [
        {
          "output_type": "stream",
          "name": "stdout",
          "text": [
            "variável string\n",
            "variávelstring\n"
          ]
        }
      ]
    },
    {
      "cell_type": "code",
      "source": [
        "# Que tal multiplicar uma string? Use o operador * para isso. Exemplo:\n",
        "linha = '-'\n",
        "\n",
        "print(linha * 28)\n",
        "print(\"Nosso código\")\n",
        "print(linha * 28)\n"
      ],
      "metadata": {
        "colab": {
          "base_uri": "https://localhost:8080/"
        },
        "id": "xGJLljUEwpN7",
        "outputId": "2d157e11-4d0c-4999-ac20-1c27bf50c276"
      },
      "execution_count": 19,
      "outputs": [
        {
          "output_type": "stream",
          "name": "stdout",
          "text": [
            "----------------------------\n",
            "Nosso código\n",
            "----------------------------\n"
          ]
        }
      ]
    },
    {
      "cell_type": "code",
      "source": [
        "# Formatação de Strings utilizando format()\n",
        "# Agora vamos supor que você queira concatenar uma variável que contém uma string com um número, assim:\n",
        "var = 'Média: '\n",
        "nota = 8\n",
        "\n",
        "print(var + nota)\n"
      ],
      "metadata": {
        "colab": {
          "base_uri": "https://localhost:8080/",
          "height": 210
        },
        "id": "jl0r_xkSwpGG",
        "outputId": "226fa06d-3d01-456c-8878-bf8d9c364c49"
      },
      "execution_count": 44,
      "outputs": [
        {
          "output_type": "error",
          "ename": "TypeError",
          "evalue": "can only concatenate str (not \"int\") to str",
          "traceback": [
            "\u001b[0;31m---------------------------------------------------------------------------\u001b[0m",
            "\u001b[0;31mTypeError\u001b[0m                                 Traceback (most recent call last)",
            "\u001b[0;32m<ipython-input-44-6e337f628337>\u001b[0m in \u001b[0;36m<cell line: 6>\u001b[0;34m()\u001b[0m\n\u001b[1;32m      4\u001b[0m \u001b[0mnota\u001b[0m \u001b[0;34m=\u001b[0m \u001b[0;36m8\u001b[0m\u001b[0;34m\u001b[0m\u001b[0;34m\u001b[0m\u001b[0m\n\u001b[1;32m      5\u001b[0m \u001b[0;34m\u001b[0m\u001b[0m\n\u001b[0;32m----> 6\u001b[0;31m \u001b[0mprint\u001b[0m\u001b[0;34m(\u001b[0m\u001b[0mvar\u001b[0m \u001b[0;34m+\u001b[0m \u001b[0mnota\u001b[0m\u001b[0;34m)\u001b[0m\u001b[0;34m\u001b[0m\u001b[0;34m\u001b[0m\u001b[0m\n\u001b[0m",
            "\u001b[0;31mTypeError\u001b[0m: can only concatenate str (not \"int\") to str"
          ]
        }
      ]
    },
    {
      "cell_type": "code",
      "source": [
        "#Python só permite a concatenação utilizando o operador + quando os dois operandos são strings!\n",
        "\n",
        "# Para contornar este problema, podemos utilizar a formatação de strings.\n",
        "\n",
        "#Para isso existem, basicamente, duas formas: a primeira utilizando o método format() das strings\n",
        "# e a outra - muito mais utilizada atualmente - é o conceito de F-Strings.\n",
        "print('{} {}'.format(var, nota))\n",
        "\n",
        "# O método .format() pega os argumentos passados e insere dentro da string onde os marcadores {} estão posicionados, na ordem dos argumentos."
      ],
      "metadata": {
        "colab": {
          "base_uri": "https://localhost:8080/"
        },
        "id": "sqS6Vr94wo7T",
        "outputId": "620902e9-f7d9-47ac-c866-0d44bb548480"
      },
      "execution_count": 30,
      "outputs": [
        {
          "output_type": "stream",
          "name": "stdout",
          "text": [
            "Média:  8\n"
          ]
        }
      ]
    },
    {
      "cell_type": "code",
      "source": [
        "# Você pode utilizar esse recurso quantas vezes for necessário:\n",
        "qtd_macas = 10\n",
        "qtd_melancias = 3\n",
        "qtd_uvas = 22.2\n",
        "\n",
        "texto = 'Vou comprar {} maças, trocar {} melancias e comer {} uvas'\n",
        "print(texto.format(qtd_macas, qtd_melancias, qtd_uvas))"
      ],
      "metadata": {
        "colab": {
          "base_uri": "https://localhost:8080/"
        },
        "id": "23o9kOiM0lIY",
        "outputId": "9de379d1-c125-45fe-97bf-3ab20b7ac23f"
      },
      "execution_count": 31,
      "outputs": [
        {
          "output_type": "stream",
          "name": "stdout",
          "text": [
            "Vou comprar 10 maças, trocar 3 melancias e comer 22.2 uvas\n"
          ]
        }
      ]
    },
    {
      "cell_type": "code",
      "source": [
        "# Strings em Estruturas de repetição:\n",
        "# Sabemos que as strings são iteráveis e por isso, podemos utilizar as estruturas de\n",
        "# repetição for e while para percorrer seus itens.\n",
        "# Vamos a um exemplo com for:\n",
        "txt = 'Python'\n",
        "\n",
        "for item in txt:\n",
        "    print(item)\n",
        "\n"
      ],
      "metadata": {
        "colab": {
          "base_uri": "https://localhost:8080/"
        },
        "id": "G9zXQfW_0lFm",
        "outputId": "fe5268a3-c8a2-432b-f3a1-09879d986e75"
      },
      "execution_count": 32,
      "outputs": [
        {
          "output_type": "stream",
          "name": "stdout",
          "text": [
            "P\n",
            "y\n",
            "t\n",
            "h\n",
            "o\n",
            "n\n"
          ]
        }
      ]
    },
    {
      "cell_type": "code",
      "source": [
        "indice = 0\n",
        "while indice < len(txt):\n",
        "    print(txt[indice])\n",
        "    indice += 1\n",
        ""
      ],
      "metadata": {
        "colab": {
          "base_uri": "https://localhost:8080/"
        },
        "id": "QJdIiHOs0lCt",
        "outputId": "d61c5b28-45b5-4611-b24d-cc76cd464dfd"
      },
      "execution_count": 33,
      "outputs": [
        {
          "output_type": "stream",
          "name": "stdout",
          "text": [
            "P\n",
            "y\n",
            "t\n",
            "h\n",
            "o\n",
            "n\n"
          ]
        }
      ]
    },
    {
      "cell_type": "code",
      "source": [
        "# Uma pequena brincadeira com concatenação e estruturas de repetição:\n",
        "prefixo = \"MSCBGM\"\n",
        "sufixo = \"ola\"\n",
        "\n",
        "for caractere in prefixo:\n",
        "    print(caractere + sufixo)\n"
      ],
      "metadata": {
        "colab": {
          "base_uri": "https://localhost:8080/"
        },
        "id": "O3ylzTcK0k__",
        "outputId": "115d5ee9-d8dc-4101-b813-71eda2a65501"
      },
      "execution_count": 34,
      "outputs": [
        {
          "output_type": "stream",
          "name": "stdout",
          "text": [
            "Mola\n",
            "Sola\n",
            "Cola\n",
            "Bola\n",
            "Gola\n",
            "Mola\n"
          ]
        }
      ]
    },
    {
      "cell_type": "code",
      "source": [
        "contador = 0\n",
        "\n",
        "while contador < 9:\n",
        "    print(f'Valor do contador é {contador}')\n",
        "    contador += 1"
      ],
      "metadata": {
        "colab": {
          "base_uri": "https://localhost:8080/"
        },
        "id": "znR3eRvR0k8_",
        "outputId": "047f5473-8d2c-42ee-8e0b-7c4ab1d32611"
      },
      "execution_count": 36,
      "outputs": [
        {
          "output_type": "stream",
          "name": "stdout",
          "text": [
            "Valor do contador é 0\n",
            "Valor do contador é 1\n",
            "Valor do contador é 2\n",
            "Valor do contador é 3\n",
            "Valor do contador é 4\n",
            "Valor do contador é 5\n",
            "Valor do contador é 6\n",
            "Valor do contador é 7\n",
            "Valor do contador é 8\n"
          ]
        }
      ]
    },
    {
      "cell_type": "code",
      "source": [
        "# Loops utilizando while e else\n",
        "import random\n",
        "\n",
        "numero_magico = random.radint(0,100)\n",
        "tentativas = 0\n",
        "\n",
        "while tentativas < 3:\n",
        "    numero = input('Adivinhe o número mágico (0 a 100): ')\n",
        "\n",
        "    if int(numero) == numero_magico:\n",
        "        print('Corre pra Loteria! Hoje é seu dia de sorte *.*')\n",
        "        break\n",
        "    tentativas += 1\n",
        "else:\n",
        "    print('Teeeente outra veeeez xD')\n"
      ],
      "metadata": {
        "colab": {
          "base_uri": "https://localhost:8080/",
          "height": 245
        },
        "id": "2mJx6pxC8jUu",
        "outputId": "87bd3696-4e52-41f3-8e28-d99d427e2854"
      },
      "execution_count": 39,
      "outputs": [
        {
          "output_type": "error",
          "ename": "AttributeError",
          "evalue": "module 'random' has no attribute 'radint'",
          "traceback": [
            "\u001b[0;31m---------------------------------------------------------------------------\u001b[0m",
            "\u001b[0;31mAttributeError\u001b[0m                            Traceback (most recent call last)",
            "\u001b[0;32m<ipython-input-39-3e8d045f77b3>\u001b[0m in \u001b[0;36m<cell line: 4>\u001b[0;34m()\u001b[0m\n\u001b[1;32m      2\u001b[0m \u001b[0;32mimport\u001b[0m \u001b[0mrandom\u001b[0m\u001b[0;34m\u001b[0m\u001b[0;34m\u001b[0m\u001b[0m\n\u001b[1;32m      3\u001b[0m \u001b[0;34m\u001b[0m\u001b[0m\n\u001b[0;32m----> 4\u001b[0;31m \u001b[0mnumero_magico\u001b[0m \u001b[0;34m=\u001b[0m \u001b[0mrandom\u001b[0m\u001b[0;34m.\u001b[0m\u001b[0mradint\u001b[0m\u001b[0;34m(\u001b[0m\u001b[0;36m0\u001b[0m\u001b[0;34m,\u001b[0m\u001b[0;36m100\u001b[0m\u001b[0;34m)\u001b[0m\u001b[0;34m\u001b[0m\u001b[0;34m\u001b[0m\u001b[0m\n\u001b[0m\u001b[1;32m      5\u001b[0m \u001b[0mtentativas\u001b[0m \u001b[0;34m=\u001b[0m \u001b[0;36m0\u001b[0m\u001b[0;34m\u001b[0m\u001b[0;34m\u001b[0m\u001b[0m\n\u001b[1;32m      6\u001b[0m \u001b[0;34m\u001b[0m\u001b[0m\n",
            "\u001b[0;31mAttributeError\u001b[0m: module 'random' has no attribute 'radint'"
          ]
        }
      ]
    },
    {
      "cell_type": "code",
      "source": [
        "import random\n",
        "\n",
        "numero_magico = random.randint(0, 100)\n",
        "tentativas = 0\n",
        "\n",
        "while tentativas < 3:\n",
        "    numero = input('Adivinhe o número mágico (0 a 100): ')\n",
        "\n",
        "    if int(numero) == numero_magico:\n",
        "        print('Corre pra Loteria! Hoje é seu dia de sorte *.*')\n",
        "        break\n",
        "    tentativas += 1\n",
        "else:\n",
        "    print('Teeeente outra veeeez :D')\n",
        "\n",
        "\n"
      ],
      "metadata": {
        "colab": {
          "base_uri": "https://localhost:8080/"
        },
        "id": "AU6Ab6u48jSG",
        "outputId": "e90f11bc-0f2c-4a97-a335-10371b2bd530"
      },
      "execution_count": 42,
      "outputs": [
        {
          "output_type": "stream",
          "name": "stdout",
          "text": [
            "Adivinhe o número mágico (0 a 100): 330\n",
            "Adivinhe o número mágico (0 a 100): 3\n",
            "Adivinhe o número mágico (0 a 100): 3\n",
            "Teeeente outra veeeez :D\n"
          ]
        }
      ]
    },
    {
      "cell_type": "code",
      "source": [],
      "metadata": {
        "id": "XWDuXe9f8jPO"
      },
      "execution_count": null,
      "outputs": []
    },
    {
      "cell_type": "code",
      "source": [],
      "metadata": {
        "id": "1QWbbCL58jMx"
      },
      "execution_count": null,
      "outputs": []
    },
    {
      "cell_type": "code",
      "source": [],
      "metadata": {
        "id": "aLAQw4_a0k6H"
      },
      "execution_count": null,
      "outputs": []
    }
  ]
}